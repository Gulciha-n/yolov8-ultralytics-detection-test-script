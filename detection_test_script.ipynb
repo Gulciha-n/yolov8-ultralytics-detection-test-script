{
  "nbformat": 4,
  "nbformat_minor": 0,
  "metadata": {
    "colab": {
      "provenance": [],
      "authorship_tag": "ABX9TyMHLf7NUr96xrlFYOZiq+cQ",
      "include_colab_link": true
    },
    "kernelspec": {
      "name": "python3",
      "display_name": "Python 3"
    },
    "language_info": {
      "name": "python"
    }
  },
  "cells": [
    {
      "cell_type": "markdown",
      "metadata": {
        "id": "view-in-github",
        "colab_type": "text"
      },
      "source": [
        "<a href=\"https://colab.research.google.com/github/Gulciha-n/yolov8-ultralytics-detection-test-script/blob/main/detection_test_script.ipynb\" target=\"_parent\"><img src=\"https://colab.research.google.com/assets/colab-badge.svg\" alt=\"Open In Colab\"/></a>"
      ]
    },
    {
      "cell_type": "code",
      "source": [
        "from google.colab import drive\n",
        "drive.mount('/content/gdrive')"
      ],
      "metadata": {
        "colab": {
          "base_uri": "https://localhost:8080/"
        },
        "id": "gwUoc6_GDqJV",
        "outputId": "45337a93-db14-4184-8b5b-7088074ca92d"
      },
      "execution_count": 3,
      "outputs": [
        {
          "output_type": "stream",
          "name": "stdout",
          "text": [
            "Mounted at /content/gdrive\n"
          ]
        }
      ]
    },
    {
      "cell_type": "code",
      "execution_count": 1,
      "metadata": {
        "colab": {
          "base_uri": "https://localhost:8080/"
        },
        "id": "-txgID7SB5z5",
        "outputId": "e39a266e-de10-411b-ce5f-fd68a3981bb0"
      },
      "outputs": [
        {
          "output_type": "stream",
          "name": "stdout",
          "text": [
            "Ultralytics YOLOv8.2.75 🚀 Python-3.10.12 torch-2.3.1+cu121 CPU (Intel Xeon 2.20GHz)\n",
            "Setup complete ✅ (2 CPUs, 12.7 GB RAM, 33.6/107.7 GB disk)\n"
          ]
        }
      ],
      "source": [
        "%pip install ultralytics # install\n",
        "\n",
        "%pip install supervision\n",
        "\n",
        "from ultralytics import YOLO, checks, hub\n",
        "\n",
        "checks() # checks"
      ]
    },
    {
      "cell_type": "code",
      "source": [
        "from pathlib import Path\n",
        "import shutil\n",
        "import supervision as sv\n",
        "from ultralytics import YOLO\n",
        "import cv2\n",
        "import os"
      ],
      "metadata": {
        "id": "OQfkM_VSCCGd"
      },
      "execution_count": 5,
      "outputs": []
    },
    {
      "cell_type": "code",
      "source": [
        "byte_tracker = sv.ByteTrack()\n",
        "\n",
        "annotator = sv.BoxAnnotator()\n",
        "\n",
        "MODEL_PATH = \"/content/gdrive/MyDrive/Colab Notebooks/edge_garbage_e100_640_s.pt\"  #eğitilmiş model dosyanın yolu\n",
        "\n",
        "SAVE_PATH = Path(\"saved_frames\")\n",
        "\n",
        "if SAVE_PATH.is_dir():\n",
        "  shutil.rmtree(SAVE_PATH)\n",
        "\n",
        "SAVE_PATH.mkdir(exist_ok=True, parents=True)"
      ],
      "metadata": {
        "id": "Xx5-b102CFii"
      },
      "execution_count": 4,
      "outputs": []
    },
    {
      "cell_type": "code",
      "source": [
        "model = YOLO(MODEL_PATH)\n",
        "\n",
        "IMAGE_FOLDER = \"/content/gdrive/MyDrive/test_images\"\n",
        "SAVE_PATH = \"/content/gdrive/MyDrive/Colab Notebooks/outputs\"\n",
        "os.makedirs(SAVE_PATH, exist_ok=True)  # Save_path klasörünü oluşturur, eğer yoksa\n",
        "\n",
        "# Define path to images in the folder\n",
        "image_files = [f for f in os.listdir(IMAGE_FOLDER) if f.endswith(('.jpg', '.png', '.jpeg'))]\n",
        "\n",
        "frame_counter = 0  # Counter for image files\n",
        "\n",
        "for image_file in image_files:\n",
        "    frame_counter += 1\n",
        "    image_path = os.path.join(IMAGE_FOLDER, image_file)\n",
        "\n",
        "    # Run inference on the image\n",
        "    results = model(image_path, stream=True, imgsz=256, conf=0.7)\n",
        "\n",
        "    for result in results:\n",
        "        detections = sv.Detections.from_ultralytics(result)\n",
        "        if len(detections.xyxy) > 0:\n",
        "            # Save the results to txt and jpg files\n",
        "            txt_path = os.path.join(SAVE_PATH, f\"{Path(image_file).stem}_{frame_counter}.txt\")\n",
        "            jpg_path = os.path.join(SAVE_PATH, f\"{Path(image_file).stem}_{frame_counter}.jpg\")\n",
        "\n",
        "            result.save_txt(txt_path)  # Save txt file\n",
        "            cv2.imwrite(jpg_path, result.orig_img)  # Save jpg file"
      ],
      "metadata": {
        "colab": {
          "base_uri": "https://localhost:8080/"
        },
        "id": "-1a78X9iCIFq",
        "outputId": "a247809f-f066-469f-b63d-8bb2cecb85ac"
      },
      "execution_count": 6,
      "outputs": [
        {
          "output_type": "stream",
          "name": "stdout",
          "text": [
            "\n",
            "image 1/1 /content/gdrive/MyDrive/test_images/09_57_37_d9A2O3IfOB1Gmt6vNkGey33I1723188720106.jpg: 160x256 (no detections), 253.5ms\n",
            "Speed: 14.4ms preprocess, 253.5ms inference, 18.0ms postprocess per image at shape (1, 3, 160, 256)\n",
            "\n",
            "image 1/1 /content/gdrive/MyDrive/test_images/09_50_34_6P7B1sKLJ7hGYNr7rN8LFJQn1723189036577.jpg: 160x256 1 containers, 86.9ms\n",
            "Speed: 0.8ms preprocess, 86.9ms inference, 13.4ms postprocess per image at shape (1, 3, 160, 256)\n",
            "\n",
            "image 1/1 /content/gdrive/MyDrive/test_images/09_49_26_je9ReQKeMx4Pbdh35coVsSV21723188611052.jpg: 160x256 (no detections), 81.5ms\n",
            "Speed: 0.9ms preprocess, 81.5ms inference, 0.5ms postprocess per image at shape (1, 3, 160, 256)\n",
            "\n",
            "image 1/1 /content/gdrive/MyDrive/test_images/09_45_11_nsd4NxpFaayXYxedj4CMm4MM1723187897610.jpg: 160x256 1 containers, 80.5ms\n",
            "Speed: 0.8ms preprocess, 80.5ms inference, 0.8ms postprocess per image at shape (1, 3, 160, 256)\n",
            "\n",
            "image 1/1 /content/gdrive/MyDrive/test_images/09_42_13_iFrm4uknlq54tXwLZSUvreDG1723189050970.jpg: 160x256 (no detections), 84.9ms\n",
            "Speed: 1.1ms preprocess, 84.9ms inference, 0.8ms postprocess per image at shape (1, 3, 160, 256)\n",
            "\n",
            "image 1/1 /content/gdrive/MyDrive/test_images/09_39_31_CL8Tz13BZXQVaJCBvoAlyDHf1723189209815.jpg: 160x256 1 containers, 89.2ms\n",
            "Speed: 0.9ms preprocess, 89.2ms inference, 0.9ms postprocess per image at shape (1, 3, 160, 256)\n",
            "\n",
            "image 1/1 /content/gdrive/MyDrive/test_images/09_36_44_3YjefygY6V7diQcShBAxZsDG1723188948941.jpg: 160x256 1 containers, 83.6ms\n",
            "Speed: 0.9ms preprocess, 83.6ms inference, 0.8ms postprocess per image at shape (1, 3, 160, 256)\n",
            "\n",
            "image 1/1 /content/gdrive/MyDrive/test_images/09_37_24_OIMKX54eThNAlUmtd0yxmYoP1723189377818.jpg: 160x256 (no detections), 84.2ms\n",
            "Speed: 1.1ms preprocess, 84.2ms inference, 0.5ms postprocess per image at shape (1, 3, 160, 256)\n",
            "\n",
            "image 1/1 /content/gdrive/MyDrive/test_images/09_35_51_eE0IJtrgMQD6IIuAmB5auQQg1723189377054.jpg: 160x256 (no detections), 83.9ms\n",
            "Speed: 0.9ms preprocess, 83.9ms inference, 0.6ms postprocess per image at shape (1, 3, 160, 256)\n",
            "\n",
            "image 1/1 /content/gdrive/MyDrive/test_images/09_37_48_biKDScPXIf93u8zdiVECt3f51723188399930.jpg: 160x256 1 containers, 87.7ms\n",
            "Speed: 1.1ms preprocess, 87.7ms inference, 0.9ms postprocess per image at shape (1, 3, 160, 256)\n",
            "\n",
            "image 1/1 /content/gdrive/MyDrive/test_images/09_31_02_alqK3teKDkQQBAadRW6AjZhR1723189148134.jpg: 160x256 1 containers, 84.7ms\n",
            "Speed: 0.8ms preprocess, 84.7ms inference, 0.8ms postprocess per image at shape (1, 3, 160, 256)\n",
            "\n",
            "image 1/1 /content/gdrive/MyDrive/test_images/09_29_41_8R6XDCiQ1JDggMOYKiKqrNPq1723187850787.jpg: 160x256 (no detections), 82.4ms\n",
            "Speed: 0.8ms preprocess, 82.4ms inference, 0.5ms postprocess per image at shape (1, 3, 160, 256)\n",
            "\n",
            "image 1/1 /content/gdrive/MyDrive/test_images/09_27_35_K0uWxUQQQFGwE51CQBBoLp3K1723189110450.jpg: 160x256 (no detections), 135.2ms\n",
            "Speed: 1.5ms preprocess, 135.2ms inference, 0.7ms postprocess per image at shape (1, 3, 160, 256)\n",
            "\n",
            "image 1/1 /content/gdrive/MyDrive/test_images/09_27_43_OKV45eCPtROoZusrZNgmtOSq1723189021463.jpg: 160x256 (no detections), 150.8ms\n",
            "Speed: 1.2ms preprocess, 150.8ms inference, 0.7ms postprocess per image at shape (1, 3, 160, 256)\n",
            "\n",
            "image 1/1 /content/gdrive/MyDrive/test_images/09_27_05_GfuBBcEpyugE49JuiObWj0jb1723190058138.jpg: 160x256 1 containers, 146.7ms\n",
            "Speed: 1.2ms preprocess, 146.7ms inference, 1.2ms postprocess per image at shape (1, 3, 160, 256)\n",
            "\n",
            "image 1/1 /content/gdrive/MyDrive/test_images/09_26_54_sJla4Pbb8GM6hMjVu3Beub9h1723188070365.jpg: 160x256 1 containers, 130.3ms\n",
            "Speed: 1.5ms preprocess, 130.3ms inference, 1.1ms postprocess per image at shape (1, 3, 160, 256)\n",
            "\n",
            "image 1/1 /content/gdrive/MyDrive/test_images/09_25_13_IILLE3NDqsMnzCutSMk5Otp01723188648086.jpg: 160x256 1 containers, 136.5ms\n",
            "Speed: 1.2ms preprocess, 136.5ms inference, 1.1ms postprocess per image at shape (1, 3, 160, 256)\n",
            "\n",
            "image 1/1 /content/gdrive/MyDrive/test_images/09_23_10_uagyPRW0BozS1dVZRZsaHv721723189112678.jpg: 160x256 1 containers, 83.3ms\n",
            "Speed: 0.8ms preprocess, 83.3ms inference, 0.8ms postprocess per image at shape (1, 3, 160, 256)\n",
            "\n",
            "image 1/1 /content/gdrive/MyDrive/test_images/09_22_31_xvOt4foVrJpgWFuXUuZRZZZ31723189153379.jpg: 160x256 1 containers, 112.4ms\n",
            "Speed: 0.9ms preprocess, 112.4ms inference, 0.9ms postprocess per image at shape (1, 3, 160, 256)\n",
            "\n",
            "image 1/1 /content/gdrive/MyDrive/test_images/09_22_30_7eVJyUErMiwdkC6xsW6IGH351723188592150.jpg: 160x256 1 containers, 93.0ms\n",
            "Speed: 0.8ms preprocess, 93.0ms inference, 0.8ms postprocess per image at shape (1, 3, 160, 256)\n"
          ]
        }
      ]
    },
    {
      "cell_type": "code",
      "source": [
        "import shutil\n",
        "shutil.make_archive('/content/gdrive/MyDrive/Colab Notebooks/outputs', 'zip', '/content/gdrive/MyDrive/Colab Notebooks/outputs')"
      ],
      "metadata": {
        "colab": {
          "base_uri": "https://localhost:8080/",
          "height": 36
        },
        "id": "o-5dn3wRL3IC",
        "outputId": "3c0da48c-a0b6-4126-e21d-2aa4d3d95f15"
      },
      "execution_count": 8,
      "outputs": [
        {
          "output_type": "execute_result",
          "data": {
            "text/plain": [
              "'/content/gdrive/MyDrive/Colab Notebooks/outputs.zip'"
            ],
            "application/vnd.google.colaboratory.intrinsic+json": {
              "type": "string"
            }
          },
          "metadata": {},
          "execution_count": 8
        }
      ]
    },
    {
      "cell_type": "code",
      "source": [
        "from google.colab import files\n",
        "\n",
        "files.download('/content/gdrive/MyDrive/Colab Notebooks/outputs.zip')\n",
        ""
      ],
      "metadata": {
        "colab": {
          "base_uri": "https://localhost:8080/",
          "height": 17
        },
        "id": "zMT4G7XlL58u",
        "outputId": "e6cf8b85-ca41-4586-ae6c-dbb5773cb9fa"
      },
      "execution_count": 9,
      "outputs": [
        {
          "output_type": "display_data",
          "data": {
            "text/plain": [
              "<IPython.core.display.Javascript object>"
            ],
            "application/javascript": [
              "\n",
              "    async function download(id, filename, size) {\n",
              "      if (!google.colab.kernel.accessAllowed) {\n",
              "        return;\n",
              "      }\n",
              "      const div = document.createElement('div');\n",
              "      const label = document.createElement('label');\n",
              "      label.textContent = `Downloading \"${filename}\": `;\n",
              "      div.appendChild(label);\n",
              "      const progress = document.createElement('progress');\n",
              "      progress.max = size;\n",
              "      div.appendChild(progress);\n",
              "      document.body.appendChild(div);\n",
              "\n",
              "      const buffers = [];\n",
              "      let downloaded = 0;\n",
              "\n",
              "      const channel = await google.colab.kernel.comms.open(id);\n",
              "      // Send a message to notify the kernel that we're ready.\n",
              "      channel.send({})\n",
              "\n",
              "      for await (const message of channel.messages) {\n",
              "        // Send a message to notify the kernel that we're ready.\n",
              "        channel.send({})\n",
              "        if (message.buffers) {\n",
              "          for (const buffer of message.buffers) {\n",
              "            buffers.push(buffer);\n",
              "            downloaded += buffer.byteLength;\n",
              "            progress.value = downloaded;\n",
              "          }\n",
              "        }\n",
              "      }\n",
              "      const blob = new Blob(buffers, {type: 'application/binary'});\n",
              "      const a = document.createElement('a');\n",
              "      a.href = window.URL.createObjectURL(blob);\n",
              "      a.download = filename;\n",
              "      div.appendChild(a);\n",
              "      a.click();\n",
              "      div.remove();\n",
              "    }\n",
              "  "
            ]
          },
          "metadata": {}
        },
        {
          "output_type": "display_data",
          "data": {
            "text/plain": [
              "<IPython.core.display.Javascript object>"
            ],
            "application/javascript": [
              "download(\"download_ba934f6d-ef44-43e1-a000-4371e0131488\", \"outputs.zip\", 997229)"
            ]
          },
          "metadata": {}
        }
      ]
    }
  ]
}