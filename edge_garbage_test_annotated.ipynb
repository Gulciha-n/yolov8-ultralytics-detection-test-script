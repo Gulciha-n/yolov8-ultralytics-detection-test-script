{
  "nbformat": 4,
  "nbformat_minor": 0,
  "metadata": {
    "colab": {
      "provenance": [],
      "authorship_tag": "ABX9TyOgbraYlmwTIAwxUi/rVNn7",
      "include_colab_link": true
    },
    "kernelspec": {
      "name": "python3",
      "display_name": "Python 3"
    },
    "language_info": {
      "name": "python"
    }
  },
  "cells": [
    {
      "cell_type": "markdown",
      "metadata": {
        "id": "view-in-github",
        "colab_type": "text"
      },
      "source": [
        "<a href=\"https://colab.research.google.com/github/Gulciha-n/yolov8-ultralytics-detection-test-script/blob/main/edge_garbage_test_annotated.ipynb\" target=\"_parent\"><img src=\"https://colab.research.google.com/assets/colab-badge.svg\" alt=\"Open In Colab\"/></a>"
      ]
    },
    {
      "cell_type": "code",
      "execution_count": null,
      "metadata": {
        "id": "CEkAYqmDQA96"
      },
      "outputs": [],
      "source": [
        "from google.colab import drive\n",
        "drive.mount('/content/gdrive')"
      ]
    },
    {
      "cell_type": "code",
      "source": [
        "import cv2\n",
        "from google.colab.patches import cv2_imshow\n",
        "from pathlib import Path\n",
        "\n",
        "def draw_boxes(image_path, txt_path, save_path):\n",
        "    # Load the image\n",
        "    image = cv2.imread(image_path)\n",
        "\n",
        "    # Read the labels from the txt file\n",
        "    with open(txt_path, 'r') as file:\n",
        "        lines = file.readlines()\n",
        "\n",
        "    for line in lines:\n",
        "        parts = line.strip().split()\n",
        "        class_id, x_center, y_center, width, height = map(float, parts)\n",
        "\n",
        "        # Convert from normalized to pixel coordinates\n",
        "        h, w, _ = image.shape\n",
        "        x_center *= w\n",
        "        y_center *= h\n",
        "        width *= w\n",
        "        height *= h\n",
        "\n",
        "        # Compute coordinates of the bounding box\n",
        "        x1 = int(x_center - width / 2)\n",
        "        y1 = int(y_center - height / 2)\n",
        "        x2 = int(x_center + width / 2)\n",
        "        y2 = int(y_center + height / 2)\n",
        "\n",
        "        # Draw the bounding box\n",
        "        cv2.rectangle(image, (x1, y1), (x2, y2), (0, 255, 0), 2)\n",
        "        cv2.putText(image, f\"Class {int(class_id)}\", (x1, y1 - 10), cv2.FONT_HERSHEY_SIMPLEX, 0.5, (0, 255, 0), 2)\n",
        "\n",
        "    # Save and/or show the image\n",
        "    cv2.imwrite(save_path, image)\n",
        "    cv2_imshow(image)  # Use cv2_imshow() instead of cv2.imshow()\n",
        "    cv2.waitKey(0)\n",
        "    cv2.destroyAllWindows()\n",
        "\n",
        "# Directory containing images and txt files\n",
        "directory = Path(\"/content/gdrive/MyDrive/SavedFrames\")\n",
        "\n",
        "# Process each image and its corresponding txt file\n",
        "for image_file in directory.glob(\"*.jpg\"):  # or \"*.png\" depending on your image format\n",
        "    txt_file = directory / (image_file.stem + \".txt\")  # Find the corresponding txt file\n",
        "    save_path = directory / \"annotated\" / (image_file.stem + \"_annotated.jpg\")  # Path for saving annotated image\n",
        "\n",
        "    # Ensure the 'annotated' directory exists\n",
        "    save_path.parent.mkdir(exist_ok=True, parents=True)\n",
        "\n",
        "    if txt_file.exists():\n",
        "        draw_boxes(str(image_file), str(txt_file), str(save_path))\n",
        "    else:\n",
        "        print(f\"TXT file not found for {image_file.name}\")\n"
      ],
      "metadata": {
        "id": "1WFjbideQDo8"
      },
      "execution_count": null,
      "outputs": []
    },
    {
      "cell_type": "code",
      "source": [
        "import shutil\n",
        "shutil.make_archive('/content/gdrive/MyDrive/SavedFrames/annotated', 'zip', '/content/gdrive/MyDrive/SavedFrames/annotated')"
      ],
      "metadata": {
        "id": "7U_IyulTQE51"
      },
      "execution_count": null,
      "outputs": []
    },
    {
      "cell_type": "code",
      "source": [
        "from google.colab import files\n",
        "\n",
        "files.download('/content/gdrive/MyDrive/SavedFrames/annotated.zip')"
      ],
      "metadata": {
        "id": "I8AhqVqVQGkn"
      },
      "execution_count": null,
      "outputs": []
    }
  ]
}